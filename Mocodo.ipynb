{
 "cells": [
  {
   "cell_type": "markdown",
   "metadata": {},
   "source": [
    "<h1 style=\"color: navy\"> BDD: Le module Mocodo:</h1>\n",
    "Mocodo pour: Modélisation Conceptuelle de Données <br/>\n",
    "\n",
    "![image_1](LogoMocodo.png)\n",
    "\n",
    "Mocodo est un logiciel d’aide à la modélisation de base de données, notamment à des fins d’apprentissage du SQL. L’enseignement et la modélisation est ainsi simplifiée. L’outils est simple, il suffit d’écrire textuellement les entités et associations du modèle conceptuel de données (MCD). Il peut alors générer le diagramme entité-association en SVG et son schéma relationnel (MLD) en SQL.\n",
    "\n",
    "<p style=\"color: SeaGreen; font-weight:bold\"> Notes sur l'utilisation du module <mark>Mocodo</mark>: </p>\n",
    "\n",
    "* à partir d'une console Python, après avoir installé le module mocodo, puis import mocodo et mocodo (prévoir le fichier sandbox.mcd contenant la description littérale du mcd.  \n",
    "* en ligne: [Mocodo](http://www.mocodo.net/) \n",
    "* à l'aide d'un noteBook: installer le module mocodo-magic puis exécuter la commande magique conformément à l'exemple ci-dessous:"
   ]
  },
  {
   "cell_type": "code",
   "execution_count": null,
   "metadata": {},
   "outputs": [],
   "source": [
    "%reload_ext mocodo_magic"
   ]
  },
  {
   "cell_type": "markdown",
   "metadata": {},
   "source": [
    "#### pour obtenir le MCD:\n",
    "A partir des: Entités, associations, attributs, identifiants, cardinalités"
   ]
  },
  {
   "cell_type": "code",
   "execution_count": null,
   "metadata": {},
   "outputs": [],
   "source": [
    "%%mocodo --mld --colors ocean --shapes copperplate --relations diagram  markdown_data_dict\n",
    "CLIENT: Réf. client, Nom, Prénom, Adresse\n",
    "PASSER, 0N CLIENT, 11 COMMANDE\n",
    "COMMANDE: Num commande, Date, Montant\n",
    "INCLURE, 1N COMMANDE, 0N PRODUIT: Quantité\n",
    "PRODUIT: Réf. produit, Libellé, Prix unitaire"
   ]
  },
  {
   "cell_type": "code",
   "execution_count": null,
   "metadata": {},
   "outputs": [],
   "source": [
    "# Des fichiers ont été générés dans \"mocodo_notebook\", \n",
    "# par exemple le dictionnaire des données peut être affiché avec la commande:\n",
    "%load mocodo_notebook/sandbox_data_dict.md"
   ]
  },
  {
   "cell_type": "markdown",
   "metadata": {},
   "source": [
    "#### Et pour obtenir le schéma relationnel ou MLD:"
   ]
  },
  {
   "cell_type": "code",
   "execution_count": null,
   "metadata": {},
   "outputs": [],
   "source": [
    "%mocodo --input mocodo_notebook/sandbox.mld --colors desert"
   ]
  },
  {
   "cell_type": "markdown",
   "metadata": {},
   "source": [
    "#### Un autre exemple avec l'organisation de classes et d'enseignements:"
   ]
  },
  {
   "cell_type": "code",
   "execution_count": null,
   "metadata": {},
   "outputs": [],
   "source": [
    "%reload_ext mocodo_magic  # il est nécessaire de reinitialiser le module"
   ]
  },
  {
   "cell_type": "code",
   "execution_count": null,
   "metadata": {
    "scrolled": true
   },
   "outputs": [],
   "source": [
    "%%mocodo --mld --colors ocean --shapes copperplate --relations diagram   markdown_data_dict\n",
    "Élève: Num_élève, Nom élève\n",
    "EstDans, 11 [Un élève est au moins dans une classe.] Élève, 1N [Une classe a au moins un élève.] Classe\n",
    "Classe: Id_Classe, Effectif, Option\n",
    "CoursAvec, 1N [Une classe peut avoir plusieurs cours avec le même professeur] Classe, 1N [De un à plusieurs prof interviennent avec la classe] Prof: nbHeure\n",
    "Prof: Num_prof, Nom prof, Discipline\n",
    "# RMQ: passer la souris sur les cardinalités pour afficher les messages."
   ]
  },
  {
   "cell_type": "markdown",
   "metadata": {},
   "source": [
    "=> Ajouter à ce MCD, une entité \"Discipline\", enseignée par le professeur, avec une association \"Enseigne\" et aussi une entité \"Date\" à laquelle a lieu l'évaluation de l'élève.<br/>\n",
    "\n",
    "Puis passer au MLD, après avoir retiré les annotations de cardinalité (sinon => surcharge)"
   ]
  },
  {
   "cell_type": "code",
   "execution_count": null,
   "metadata": {},
   "outputs": [],
   "source": [
    "%mocodo --input mocodo_notebook/sandbox.mld --colors desert"
   ]
  },
  {
   "cell_type": "markdown",
   "metadata": {},
   "source": [
    "<h2 class='fa fa-cog' style=\"color: SeaGreen\"> Exercices :</h2>"
   ]
  },
  {
   "cell_type": "markdown",
   "metadata": {},
   "source": [
    "#### Exercice 1:\n",
    "Pour retrouver ses chansons sur son ordinateur, un particulier a créé un fichiers regroupant dans un même tableau et pour chaque chanson:<br/>\n",
    "Titre;  Groupe/Interprète; Membre; Genre; Année. \n",
    "\n",
    "Par exemple: Le Pénitencier est une chanson enregistrée par Johnny Hallyday en 1964, adaptation française du standard américain \"The House of the Rising Sun\" chanté par The Animals la même année (Hugues Aufray donnera une adaptation de « The House… » dont le texte est plus proche de l’original: « L’hôtel du soleil levant » (album Troubador since 1948). On y découvre que si Le Pénitencier évoque  l’incarcération d’un délinquant sur lequel les portes d’une maison d’arrêt se referment, l’original évoquait plutôt une maison de prostitution).  \n",
    "\n",
    "En 1996, les enfoirés (avec JJ Goldman) reprennent cette chanson, puis c'est le tour de Hugues Aufray... \n",
    "\n",
    "=> Proposer un modèle MCD de la bibliothèque musicale de cet utilisateur et son MLD (ou schéma relationnel). "
   ]
  },
  {
   "cell_type": "markdown",
   "metadata": {},
   "source": [
    "#### Exercice 2:\n",
    "On envisage de créer un site de mise en vente de voitures sur Internet. Les clients, avant de créer l'annonce doivent s'inscrire d'abord sur le site en donnant leur nom, prénom, un mot de passe, leur numéro de téléphone et leur email. \n",
    "Les voitures mises en vente sont caractérisées par un numéro de matricule (immatriculation), la marque (Mercedes, Renault..), le modèle (Clio, Berlingo, Docker..), l'année de production, le type de carburant (Diesel, Essence, hybride) et les options qu'elle a (Boite auto, Clim, Toit ouvrant etc.). Une annonce concerne un client pour une voiture donnée. Un même client peut faire plusieurs annonces concernant plusieurs voitures. On doit noter la date de mise en vente et la date de la vente effective déclarée par le client lui-même. On ne s'intéresse pas au client qui achete la voiture."
   ]
  }
 ],
 "metadata": {
  "kernelspec": {
   "display_name": "Python 3",
   "language": "python",
   "name": "python3"
  },
  "language_info": {
   "codemirror_mode": {
    "name": "ipython",
    "version": 3
   },
   "file_extension": ".py",
   "mimetype": "text/x-python",
   "name": "python",
   "nbconvert_exporter": "python",
   "pygments_lexer": "ipython3",
   "version": "3.7.7"
  }
 },
 "nbformat": 4,
 "nbformat_minor": 4
}
